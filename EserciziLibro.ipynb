{
 "cells": [
  {
   "cell_type": "markdown",
   "id": "dc8e6774",
   "metadata": {},
   "source": [
    "# Compiti\n",
    "\n",
    "### Es_1: Scrivi un programma in Python in cui inizializzi 4 variabili con un intero, una stringa, un floating point e un booleano. Stampa i valori delle variabili e i loro tipi (con la funzione type)"
   ]
  },
  {
   "cell_type": "code",
   "execution_count": 4,
   "id": "c73fb1fd",
   "metadata": {},
   "outputs": [
    {
     "name": "stdout",
     "output_type": "stream",
     "text": [
      "<class 'int'>: 2, <class 'str'>: bacon, <class 'type'>: 11.13, <class 'bool'>: True\n"
     ]
    }
   ],
   "source": [
    "intero = 2 \n",
    "stringa = \"bacon\"\n",
    "floatingPoint = 11.13\n",
    "booleano = True\n",
    "print(f\"{type(intero)}: {intero}, {type(stringa)}: {stringa}, {type(float)}: {floatingPoint}, {type(booleano)}: {booleano}\")"
   ]
  },
  {
   "cell_type": "markdown",
   "id": "e03e9560",
   "metadata": {},
   "source": [
    "### Es_2: Scrivi un programma in Python in cui inizializzi 4 variabili con un intero, una stringa, un floating point e un booleano con l'assegnazione multipla. Stampa i valori delle variabili e i loro tipi (con la funzione type)"
   ]
  },
  {
   "cell_type": "code",
   "execution_count": 5,
   "id": "bb4d490c",
   "metadata": {
    "scrolled": true
   },
   "outputs": [
    {
     "name": "stdout",
     "output_type": "stream",
     "text": [
      "<class 'int'>: 2, <class 'str'>: String, <class 'type'>: 2.78, <class 'bool'>: True\n"
     ]
    }
   ],
   "source": [
    "intero, stringa, floatingPoint, booleano = 2, \"String\", 2.78, True\n",
    "print(f\"{type(intero)}: {intero}, {type(stringa)}: {stringa}, {type(float)}: {floatingPoint}, {type(booleano)}: {booleano}\")"
   ]
  },
  {
   "cell_type": "markdown",
   "id": "bcc0476e",
   "metadata": {},
   "source": [
    "### Es_3: Scrivi un programma in Python in cui:\n",
    "#### - inizializzi due variabili, \"prima\" e \"seconda\", con due numeri interi diversi a tua scelta;\n",
    "#### - stampi i valori delle variabili usando una sola f-string;\n",
    "#### - scambi i valori tra le due variabili\n",
    "#### - stampi i nuovi valori delle variabili usando una sola f-string"
   ]
  },
  {
   "cell_type": "code",
   "execution_count": 6,
   "id": "43e90445",
   "metadata": {},
   "outputs": [
    {
     "name": "stdout",
     "output_type": "stream",
     "text": [
      "prima: 3, seconda: 7\n",
      "prima: 7, seconda: 3\n"
     ]
    }
   ],
   "source": [
    "prima, seconda = 3, 7\n",
    "print(f\"prima: {prima}, seconda: {seconda}\")\n",
    "prima, seconda = seconda, prima\n",
    "print(f\"prima: {prima}, seconda: {seconda}\")"
   ]
  },
  {
   "cell_type": "markdown",
   "id": "9de5c186",
   "metadata": {},
   "source": [
    "### Es_4: Scrivi un programma in Python che, assegnata una parola a una variabile stringa, stampi le lettere iniziali e finali della parola"
   ]
  },
  {
   "cell_type": "code",
   "execution_count": 14,
   "id": "84ebb488",
   "metadata": {},
   "outputs": [
    {
     "name": "stdout",
     "output_type": "stream",
     "text": [
      "lettere iniziali e finali: pa\n"
     ]
    }
   ],
   "source": [
    "stringa = \"provaParola\"\n",
    "print(f\"lettere iniziali e finali: {stringa[0]+stringa[-1]}\")"
   ]
  },
  {
   "cell_type": "markdown",
   "id": "2cdac6d2",
   "metadata": {},
   "source": [
    "### Es_5: Scrivi un programma in Python che, assegnata una parola a una stringa, stampi tutta la parola tranne le lettere iniziali e finali della parola"
   ]
  },
  {
   "cell_type": "code",
   "execution_count": 16,
   "id": "43bcd205",
   "metadata": {},
   "outputs": [
    {
     "name": "stdout",
     "output_type": "stream",
     "text": [
      "lettere iniziali e finali: rovaParol\n"
     ]
    }
   ],
   "source": [
    "stringa = \"provaParola\"\n",
    "print(f\"lettere iniziali e finali: {stringa[1:-1]}\")"
   ]
  },
  {
   "cell_type": "markdown",
   "id": "8f42054d",
   "metadata": {},
   "source": [
    "### Es_6: Scrivi un programma in Python che, assegnata una parola a una variabile stringa, stampi solo i caratteri con indice dispari (per esempio della parola \"ciao\" visualizzerà solo \"io\")"
   ]
  },
  {
   "cell_type": "code",
   "execution_count": 30,
   "id": "0ba897f8",
   "metadata": {},
   "outputs": [
    {
     "data": {
      "text/plain": [
       "'rvPrl'"
      ]
     },
     "execution_count": 30,
     "metadata": {},
     "output_type": "execute_result"
    }
   ],
   "source": [
    "stringa, nuovaStringa = \"provaParola\", \"\"\n",
    "for i in range (1, len(stringa), 2):\n",
    "    nuovaStringa+=stringa[i]\n",
    "nuovaStringa"
   ]
  },
  {
   "cell_type": "markdown",
   "id": "eaf90da0",
   "metadata": {},
   "source": [
    "### Es_7: Scrivi un programma in Python che, assegnata una parola a una variabile stringa, stampi la parola invertita"
   ]
  },
  {
   "cell_type": "code",
   "execution_count": 40,
   "id": "61d2ff82",
   "metadata": {},
   "outputs": [
    {
     "data": {
      "text/plain": [
       "'aloraPavorp'"
      ]
     },
     "execution_count": 40,
     "metadata": {},
     "output_type": "execute_result"
    }
   ],
   "source": [
    "stringa, invertita = \"provaParola\", \"\"\n",
    "for i in range (1, len(stringa)+1):\n",
    "    invertita += stringa[-i]\n",
    "invertita"
   ]
  },
  {
   "cell_type": "markdown",
   "id": "7185beac",
   "metadata": {},
   "source": [
    "### Es_8: Scrivi un programma in Python che, assegnata una parola di almeno 8 lettere a una variabile stringa, stampi tutta la parola con un carattere \"?\" al posto della terza lettera"
   ]
  },
  {
   "cell_type": "code",
   "execution_count": 42,
   "id": "5a95142b",
   "metadata": {},
   "outputs": [
    {
     "data": {
      "text/plain": [
       "'pr?vaParola'"
      ]
     },
     "execution_count": 42,
     "metadata": {},
     "output_type": "execute_result"
    }
   ],
   "source": [
    "stringa = \"provaParola\"\n",
    "stringa = stringa[:2]+\"?\"+stringa[3:]\n",
    "stringa"
   ]
  },
  {
   "cell_type": "markdown",
   "id": "542a9458",
   "metadata": {},
   "source": [
    "### Es_9: Dati due punti nel piano cartesiano espressi come tuple:\n",
    "#### - assegna ai due punti delle coordinate a tua scelta\n",
    "#### - costruisci una formula che calcoli la loro distanza\n",
    "#### - stampa la distanza tra i due punti"
   ]
  },
  {
   "cell_type": "code",
   "execution_count": 50,
   "id": "8eb54433",
   "metadata": {},
   "outputs": [
    {
     "data": {
      "text/plain": [
       "5.0"
      ]
     },
     "execution_count": 50,
     "metadata": {},
     "output_type": "execute_result"
    }
   ],
   "source": [
    "import math as mate\n",
    "a, b = (3, 5), (7, 2)\n",
    "x = abs(a[0]-b[0])\n",
    "y = abs(a[-1]-b[-1])\n",
    "distanza = mate.sqrt(x**2+y**2)\n",
    "distanza\n"
   ]
  },
  {
   "cell_type": "markdown",
   "id": "2ced523d",
   "metadata": {},
   "source": [
    "### Es_10: Scrivi un programma in Python nel quale assegni alla variabile \"listaVoti\" una lista con tutti i tuoi voti (almeno 6 voti). Sfrutta l'indicizzazione per:\n",
    "#### - stampare la lista senza il primo e l'ultimo voto;\n",
    "#### - sostituire il quarto voto con un 10;\n",
    "#### - stampare i primi 3 voti della lista."
   ]
  },
  {
   "cell_type": "code",
   "execution_count": 52,
   "id": "a7ae59e3",
   "metadata": {},
   "outputs": [
    {
     "name": "stdout",
     "output_type": "stream",
     "text": [
      "[8, 8, 9, 6]\n",
      "[7, 8, 8, 10, 6, 7]\n",
      "[7, 8, 8]\n"
     ]
    }
   ],
   "source": [
    "listaVoti = [7, 8, 8, 9, 6, 7]\n",
    "print(listaVoti[1:-1])\n",
    "listaVoti[3] = 10\n",
    "print(listaVoti)\n",
    "print(listaVoti[:3])"
   ]
  },
  {
   "cell_type": "markdown",
   "id": "94d44e7a",
   "metadata": {},
   "source": [
    "### Es_11: Scrivi un programma in Python in cui inizializzi la lista x = [0, 1, 2, 3, 5, 6, 7, 8] e poi che:\n",
    "#### - crei due nuove liste contenenti ciascuna una delle due metà della lista;\n",
    "#### - aggiungi il valore 5 alla lista contenente la prima metà."
   ]
  },
  {
   "cell_type": "code",
   "execution_count": 2,
   "id": "6d52a6c5",
   "metadata": {},
   "outputs": [
    {
     "name": "stdout",
     "output_type": "stream",
     "text": [
      "prima parte: [0, 1, 2, 3], seconda parte: [4, 5, 6, 7, 8, 9]\n",
      "[0, 1, 2, 3, 5]\n"
     ]
    }
   ],
   "source": [
    "x = list(range(0,10))\n",
    "lunghezza = len(x)\n",
    "xPrimaParte = x[:4]\n",
    "xSecondaParte = x[4:]\n",
    "print(f\"prima parte: {xPrimaParte}, seconda parte: {xSecondaParte}\")\n",
    "xPrimaParte.append(5)\n",
    "print(xPrimaParte)"
   ]
  },
  {
   "cell_type": "markdown",
   "id": "674be26f",
   "metadata": {},
   "source": [
    "### Es_12: Scrivi un programma in Python in cui applichi l'operatore di concatenazione delle stringhe alle seguenti due liste: a = [0, 1, 2, 3] e b = [4, 5, 6, 7]. Stampa la lista finale."
   ]
  },
  {
   "cell_type": "code",
   "execution_count": 1,
   "id": "31fbb12e",
   "metadata": {},
   "outputs": [
    {
     "data": {
      "text/plain": [
       "[0, 1, 2, 3, 4, 5, 6, 7]"
      ]
     },
     "execution_count": 1,
     "metadata": {},
     "output_type": "execute_result"
    }
   ],
   "source": [
    "a, b, x = [0, 1, 2, 3], [4, 5, 6, 7], []\n",
    "for elementoA, elementoB in zip(a, b):\n",
    "    x=a+b\n",
    "x    "
   ]
  },
  {
   "cell_type": "markdown",
   "id": "59533f49",
   "metadata": {},
   "source": [
    "### Es_13: Scrivi un programma in Python in cui inizializzi un dizionario che realizzi una rubrica telefonica. Scegli alcuni dei tuoi amici e usa il loro nome come chiave del dizionario e il loro numero di telefono come valore. Stampa il numero di telefono di un amico a tua scelta. Aggiungi un nuovo amico alla rubrica e stampa l'intero dizionario."
   ]
  },
  {
   "cell_type": "code",
   "execution_count": 6,
   "id": "56b9207b",
   "metadata": {},
   "outputs": [
    {
     "name": "stdout",
     "output_type": "stream",
     "text": [
      "numero di Andrea: 234-567-8901\n",
      "Luca ha il numero: 123-456-7890\n",
      "Andrea ha il numero: 234-567-8901\n",
      "Filippo ha il numero: 345-678-9012\n",
      "Marco ha il numero: 456-789-0123\n",
      "Edoardo ha il numero: 567-890-1234\n"
     ]
    }
   ],
   "source": [
    "dizionario = {\"Luca\": \"123-456-7890\", \"Andrea\": \"234-567-8901\", \n",
    "              \"Filippo\": \"345-678-9012\", \"Marco\": \"456-789-0123\"}\n",
    "print(f\"numero di Andrea: {dizionario['Andrea']}\")\n",
    "dizionario[\"Edoardo\"] = \"567-890-1234\"\n",
    "for chiave, valore in dizionario.items():\n",
    "    print(f\"{chiave} ha il numero: {valore}\")\n"
   ]
  },
  {
   "cell_type": "markdown",
   "id": "1dd957ff",
   "metadata": {},
   "source": [
    "### Es_14: Scrivi un programma in Python che permetta all'utente di inserire il suo nome (tramite input ()) e che stampi il nome invertito."
   ]
  },
  {
   "cell_type": "code",
   "execution_count": 1,
   "id": "95b140bd",
   "metadata": {},
   "outputs": [
    {
     "name": "stdout",
     "output_type": "stream",
     "text": [
      "inserisci il tuo nome: matteo\n"
     ]
    },
    {
     "data": {
      "text/plain": [
       "'oettam'"
      ]
     },
     "execution_count": 1,
     "metadata": {},
     "output_type": "execute_result"
    }
   ],
   "source": [
    "nome, invertito = input(\"inserisci il tuo nome: \"), \"\"\n",
    "invertito = nome[::-1]\n",
    "invertito"
   ]
  },
  {
   "cell_type": "markdown",
   "id": "436fc86d",
   "metadata": {},
   "source": [
    "### Es_15: Scrivi un programma in Python che permetta all'utente di inserire il suo nome (tramite input ()) e che stampi il nome in cui tutti i caratteri tranne il primo sono sostituiti da un *\n"
   ]
  },
  {
   "cell_type": "code",
   "execution_count": 16,
   "id": "7dfa7df4",
   "metadata": {},
   "outputs": [
    {
     "name": "stdout",
     "output_type": "stream",
     "text": [
      "inserisci il tuo nome: matteo\n"
     ]
    },
    {
     "data": {
      "text/plain": [
       "'m*****'"
      ]
     },
     "execution_count": 16,
     "metadata": {},
     "output_type": "execute_result"
    }
   ],
   "source": [
    "nome, nuovoNome = input(\"inserisci il tuo nome: \"), \"\"\n",
    "nuovoNome = nome[0]+\"*\"*(len(nome)-1)\n",
    "nuovoNome"
   ]
  },
  {
   "cell_type": "markdown",
   "id": "cd38060c",
   "metadata": {},
   "source": [
    "### Es_16: Scrivi un programma in Python che permetta all'utente di inserire il suo nome (tramite input ()) e che stampi la lista in cui gli elementi sono i caratteri del nome. Ti suggeriamo di cercare sulla documentazione ufficiale un'opportuna funzione."
   ]
  },
  {
   "cell_type": "code",
   "execution_count": 21,
   "id": "21dd0e20",
   "metadata": {},
   "outputs": [
    {
     "name": "stdout",
     "output_type": "stream",
     "text": [
      "inserisci il tuo nome: matteo\n"
     ]
    },
    {
     "data": {
      "text/plain": [
       "['m', 'a', 't', 't', 'e', 'o']"
      ]
     },
     "execution_count": 21,
     "metadata": {},
     "output_type": "execute_result"
    }
   ],
   "source": [
    "nome = input(\"inserisci il tuo nome: \")\n",
    "lista = list(nome)\n",
    "lista"
   ]
  },
  {
   "cell_type": "markdown",
   "id": "e54b229b",
   "metadata": {},
   "source": [
    "### Es_17: Scrivi un programma in Python che permetta all'utente di inserire le coordinate di due punti nel piano cartesiano. I punti devono essere salvati all'interno di tuple. Stampa la distanza tra i due punti."
   ]
  },
  {
   "cell_type": "code",
   "execution_count": 40,
   "id": "3fa85c5c",
   "metadata": {},
   "outputs": [
    {
     "name": "stdout",
     "output_type": "stream",
     "text": [
      "inserisci xA: 2\n",
      "inserisci yA: 3\n",
      "inserisci xB: 4\n",
      "inserisci yB: 5\n"
     ]
    },
    {
     "data": {
      "text/plain": [
       "2.8284271247461903"
      ]
     },
     "execution_count": 40,
     "metadata": {},
     "output_type": "execute_result"
    }
   ],
   "source": [
    "import math as mate\n",
    "xA = float(input(\"inserisci xA: \"))\n",
    "yA = float(input(\"inserisci yA: \"))\n",
    "xB = float(input(\"inserisci xB: \"))\n",
    "yB = float(input(\"inserisci yB: \"))\n",
    "A = (xA, yA)\n",
    "B = (xB, yB)\n",
    "distanza = mate.sqrt((A[0]-B[0])**2 + (A[1]-B[1])**2)\n",
    "distanza"
   ]
  },
  {
   "cell_type": "markdown",
   "id": "fdff656d",
   "metadata": {},
   "source": [
    "### Es_18: Scrivi un programma in Python che permetta all'utente di inserire due numeri. Crea una lista contenente:\n",
    "- la somma dei quadrati dei due numeri;\n",
    "- Il quadrato della somma dei numeri;\n",
    "- la differenza tra i quadrati dei due numeri; \n",
    "- il quadrato della differenza tra i numeri.\n",
    "### Stampa la lista ottenuta."
   ]
  },
  {
   "cell_type": "code",
   "execution_count": 42,
   "id": "9deb32cb",
   "metadata": {},
   "outputs": [
    {
     "name": "stdout",
     "output_type": "stream",
     "text": [
      "inserisci xA: 2\n",
      "inserisci yA: 3\n"
     ]
    },
    {
     "data": {
      "text/plain": [
       "[13.0, 25.0, -5.0, 1.0]"
      ]
     },
     "execution_count": 42,
     "metadata": {},
     "output_type": "execute_result"
    }
   ],
   "source": [
    "num1 = float(input(\"inserisci un numero: \"))\n",
    "num2 = float(input(\"inserisci un numero: \"))\n",
    "sommaQuadrati = num1**2 + num2 **2\n",
    "quadratoSomma = (num1+num2)**2\n",
    "differenzaQuadrati = num1**2 - num2 **2\n",
    "quadratoDifferenza = (num1-num2)**2\n",
    "lista = [sommaQuadrati, quadratoSomma, differenzaQuadrati, quadratoDifferenza]\n",
    "lista"
   ]
  },
  {
   "cell_type": "markdown",
   "id": "6f5e7066",
   "metadata": {},
   "source": [
    "### Es_19: Scrivi un programma in Python che permetta all'utente di inserire due numeri qualsiasi, Crea un dizionario in cui salvi la media aritmetica e la media geometrica dei due numeri. Stampa il dizionario."
   ]
  },
  {
   "cell_type": "code",
   "execution_count": 2,
   "id": "4f7684ee",
   "metadata": {},
   "outputs": [
    {
     "name": "stdout",
     "output_type": "stream",
     "text": [
      "inserisci un numero: 27\n",
      "inserisci un numero: 3\n"
     ]
    },
    {
     "data": {
      "text/plain": [
       "{'aritmetica': 15.0, 'geometrica': 9.0}"
      ]
     },
     "execution_count": 2,
     "metadata": {},
     "output_type": "execute_result"
    }
   ],
   "source": [
    "import math as mate\n",
    "num1 = float(input(\"inserisci un numero: \"))\n",
    "num2 = float(input(\"inserisci un numero: \"))\n",
    "diz = dict()\n",
    "aritmetica = (num1+num2)/2\n",
    "geometrica = mate.sqrt(num1*num2)\n",
    "diz[\"aritmetica\"], diz[\"geometrica\"] = aritmetica, geometrica\n",
    "diz"
   ]
  },
  {
   "cell_type": "code",
   "execution_count": null,
   "id": "0b68b29f",
   "metadata": {},
   "outputs": [],
   "source": []
  }
 ],
 "metadata": {
  "kernelspec": {
   "display_name": "Python 3 (ipykernel)",
   "language": "python",
   "name": "python3"
  },
  "language_info": {
   "codemirror_mode": {
    "name": "ipython",
    "version": 3
   },
   "file_extension": ".py",
   "mimetype": "text/x-python",
   "name": "python",
   "nbconvert_exporter": "python",
   "pygments_lexer": "ipython3",
   "version": "3.11.4"
  }
 },
 "nbformat": 4,
 "nbformat_minor": 5
}
