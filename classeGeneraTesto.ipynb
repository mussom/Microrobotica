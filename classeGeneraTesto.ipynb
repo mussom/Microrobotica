{
 "cells": [
  {
   "cell_type": "markdown",
   "id": "1e00aba6",
   "metadata": {},
   "source": [
    "# classi in Python"
   ]
  },
  {
   "cell_type": "code",
   "execution_count": 2,
   "id": "85474941",
   "metadata": {},
   "outputs": [],
   "source": [
    "import random"
   ]
  },
  {
   "cell_type": "code",
   "execution_count": 3,
   "id": "a76e70df",
   "metadata": {},
   "outputs": [],
   "source": [
    "class TextGenerator():\n",
    "    def __init__(self, filepath, punteggiatura):\n",
    "        '''\n",
    "        il costruttore prende in input il filepath e la punteggiatura, \n",
    "        inizializza il filepath, la punteggiatura, \n",
    "        una lista di parole e un dizionario di parole.\n",
    "        '''\n",
    "        self.filepath = filepath\n",
    "        self.punteggiatura = punteggiatura\n",
    "        self.listaParole = []\n",
    "        self.dizionarioParole = {}\n",
    "        \n",
    "    def file2listaparole(self):\n",
    "        \"\"\"\n",
    "        la funzione file2parole trasforma un file di testo nella lista di parole.\n",
    "\n",
    "        non possiede parametri in input e non ritorna nulla\n",
    "        \"\"\"\n",
    "        file = open(self.filepath, \"r\", encoding=\"utf-8\")\n",
    "        righe = file.readlines()\n",
    "        file.close()\n",
    "        righeSenzaReturn = [riga[:-1] for riga in righe if len(riga)>1]\n",
    "        libro = \" \".join(righeSenzaReturn).lower()\n",
    "\n",
    "        for carattere in self.punteggiatura:\n",
    "            libro = libro.replace(carattere, \" \")        \n",
    "\n",
    "        parole = libro.split(\" \")\n",
    "        parole = [parola for parola in parole if len(parola)>0]\n",
    "        self.listaParole = parole\n",
    "    \n",
    "    def lista2dizionario(self):\n",
    "        '''    \n",
    "        il metodo crea da una lista di parole un dizionario che ha:\n",
    "            -chiave: ogni parola della lista\n",
    "            -valore: tutte le parole successive alla chiave che compaiono nel libro\n",
    "        \n",
    "        non possiede parametri in input e non ritorna nulla\n",
    "        '''\n",
    "        cont = 0\n",
    "        diz = {}\n",
    "        for parola in self.listaParole:\n",
    "            if cont+1 < len(self.listaParole):\n",
    "                if parola not in diz:\n",
    "                    diz[parola] = [self.listaParole[cont+1]]\n",
    "                else:\n",
    "                    diz[parola].append(self.listaParole[cont+1])\n",
    "                cont += 1\n",
    "        self.dizionarioParole = diz\n",
    "    \n",
    "    def generaTesto(self, parolaIniziale, lunghezza):\n",
    "        '''\n",
    "        il metodo genera del testo casuale prendendo in input:\n",
    "        -una parola iniziale \n",
    "        -la lunghezza della frase\n",
    "        \n",
    "        la frase viene generata scegliendo la parola successiva \n",
    "        a quella scelta dai valori presenti nel dizionario con chiave\n",
    "        la parola stessa\n",
    "        \n",
    "        RETURN:\n",
    "        frase generata\n",
    "        '''\n",
    "        frase = \"\"\n",
    "        if parolaIniziale in self.dizionarioParole:\n",
    "            parolaGenerata = parolaIniziale\n",
    "            frase = parolaIniziale + \" \"\n",
    "            for i in range(1, lunghezza):\n",
    "                parolaGenerata = random.choice(self.dizionarioParole[parolaGenerata])      \n",
    "                frase += parolaGenerata + \" \"\n",
    "        else:\n",
    "            print(\"la parola non è presente\")\n",
    "        print(frase) \n",
    "    "
   ]
  },
  {
   "cell_type": "code",
   "execution_count": 5,
   "id": "7fc01f01",
   "metadata": {},
   "outputs": [
    {
     "name": "stdout",
     "output_type": "stream",
     "text": [
      "sei personaggi non volle poi è vero signore non bastasse anche personaggi non rido di me ché io io non s appresserà gli attori d intelligenza al loro l ho capito nell amore e mio strazio di nuovo al direttore di sofferenza orribile ammiccamento non si spieghi chiaramente la prima attrice che faccio il padre afferrandolo anche lui indicherà gli attori e non sono con codesti occhioni belli chi cade nella realtà realtà e poi chiamando per sua parte che la terribile scena il figlio a vedere che faccio maraviglia della signorina con lei di verosimili perché non sente più \n"
     ]
    }
   ],
   "source": [
    "frase = TextGenerator(\"./sei_personaggi_in_cerca_dautore_Luigi_Pirandello.txt\", [\",\", \";\", \".\", \"'\", \"*\", \"(\", \")\", \"!\", \"?\", \":\", \"«\", \"»\", \"-\"])\n",
    "frase.file2listaparole()\n",
    "frase.lista2dizionario()\n",
    "frase.generaTesto(\"sei\", 100)"
   ]
  },
  {
   "cell_type": "code",
   "execution_count": null,
   "id": "4dcdfb37",
   "metadata": {},
   "outputs": [],
   "source": []
  },
  {
   "cell_type": "code",
   "execution_count": null,
   "id": "b0c290ce",
   "metadata": {},
   "outputs": [],
   "source": []
  }
 ],
 "metadata": {
  "kernelspec": {
   "display_name": "Python 3 (ipykernel)",
   "language": "python",
   "name": "python3"
  },
  "language_info": {
   "codemirror_mode": {
    "name": "ipython",
    "version": 3
   },
   "file_extension": ".py",
   "mimetype": "text/x-python",
   "name": "python",
   "nbconvert_exporter": "python",
   "pygments_lexer": "ipython3",
   "version": "3.11.4"
  }
 },
 "nbformat": 4,
 "nbformat_minor": 5
}
