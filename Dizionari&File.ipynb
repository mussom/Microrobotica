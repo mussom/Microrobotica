{
 "cells": [
  {
   "cell_type": "markdown",
   "id": "8fa818b3",
   "metadata": {},
   "source": [
    "# cicli for sui dizionari"
   ]
  },
  {
   "cell_type": "code",
   "execution_count": 2,
   "id": "3a1f7d32",
   "metadata": {},
   "outputs": [
    {
     "data": {
      "text/plain": [
       "{'a': ['albero', 'albergo'], 'b': ['bello'], 'c': ['ciao', 'cellulare']}"
      ]
     },
     "execution_count": 2,
     "metadata": {},
     "output_type": "execute_result"
    }
   ],
   "source": [
    "dizionario = {\"a\":[\"albero\", \"albergo\"], \"b\":[\"bello\"], \"c\":[\"ciao\", \"cellulare\"]}\n",
    "dizionario"
   ]
  },
  {
   "cell_type": "markdown",
   "id": "ef6deb67",
   "metadata": {},
   "source": [
    "#### ciclo for sulla chiave"
   ]
  },
  {
   "cell_type": "code",
   "execution_count": 3,
   "id": "1a186047",
   "metadata": {},
   "outputs": [
    {
     "name": "stdout",
     "output_type": "stream",
     "text": [
      "la chiave è a e il valore è ['albero', 'albergo']\n",
      "la chiave è b e il valore è ['bello']\n",
      "la chiave è c e il valore è ['ciao', 'cellulare']\n"
     ]
    }
   ],
   "source": [
    "for chiave in dizionario:\n",
    "    print(f\"la chiave è {chiave} e il valore è {dizionario[chiave]}\")"
   ]
  },
  {
   "cell_type": "markdown",
   "id": "a3822e3c",
   "metadata": {},
   "source": [
    "#### ciclo for su chiavi e valori"
   ]
  },
  {
   "cell_type": "code",
   "execution_count": 4,
   "id": "a26a0c0c",
   "metadata": {},
   "outputs": [
    {
     "name": "stdout",
     "output_type": "stream",
     "text": [
      "la chiave è a e il valore è ['albero', 'albergo']\n",
      "la chiave è b e il valore è ['bello']\n",
      "la chiave è c e il valore è ['ciao', 'cellulare']\n"
     ]
    }
   ],
   "source": [
    "for chiave, valore in dizionario.items():\n",
    "    print(f\"la chiave è {chiave} e il valore è {valore}\")"
   ]
  },
  {
   "cell_type": "markdown",
   "id": "c6ab0c0f",
   "metadata": {},
   "source": [
    "#### Esercizio: la prima parola della lista per ogni iniziale"
   ]
  },
  {
   "cell_type": "code",
   "execution_count": 5,
   "id": "11c27fc9",
   "metadata": {},
   "outputs": [
    {
     "name": "stdout",
     "output_type": "stream",
     "text": [
      "la prima parola della lista con iniziale a è albero\n",
      "la prima parola della lista con iniziale b è bello\n",
      "la prima parola della lista con iniziale c è ciao\n"
     ]
    }
   ],
   "source": [
    "for chiave in dizionario:\n",
    "    print(f\"la prima parola della lista con iniziale {chiave} è {dizionario[chiave][0]}\")"
   ]
  },
  {
   "cell_type": "markdown",
   "id": "e8462766",
   "metadata": {},
   "source": [
    "# Lettura di file"
   ]
  },
  {
   "cell_type": "code",
   "execution_count": 9,
   "id": "20ce2f9b",
   "metadata": {},
   "outputs": [
    {
     "name": "stdout",
     "output_type": "stream",
     "text": [
      "riga 1\n",
      "questa Ã¨ la seconda riga\n",
      "terza riga\n"
     ]
    }
   ],
   "source": [
    "file = open(\"./fileDiTesto.txt\", \"r\")\n",
    "righe = file.readlines() #ritorna una lista\n",
    "file.close()\n",
    "righe\n",
    "for riga in righe:\n",
    "    print(riga[:-1])"
   ]
  },
  {
   "cell_type": "code",
   "execution_count": null,
   "id": "b5496095",
   "metadata": {},
   "outputs": [],
   "source": []
  }
 ],
 "metadata": {
  "kernelspec": {
   "display_name": "Python 3 (ipykernel)",
   "language": "python",
   "name": "python3"
  },
  "language_info": {
   "codemirror_mode": {
    "name": "ipython",
    "version": 3
   },
   "file_extension": ".py",
   "mimetype": "text/x-python",
   "name": "python",
   "nbconvert_exporter": "python",
   "pygments_lexer": "ipython3",
   "version": "3.11.4"
  }
 },
 "nbformat": 4,
 "nbformat_minor": 5
}
