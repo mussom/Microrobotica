{
 "cells": [
  {
   "cell_type": "markdown",
   "id": "2980cedc",
   "metadata": {},
   "source": [
    "# TITOLO commonmark.org (regole base del markdown)\n",
    "## TITOLO obsidian per prendere appunti in markdown\n",
    "### TITOLO kaggle fa fare gare con ricompense\n",
    "# TITOLO tiktokenizer libreria per dividere in token\n",
    "\n",
    "Questo è del testo normale, questa parola è in *corsivo*, **grassetto**\n",
    "\n",
    "![immagine](C:\\Users\\utente\\Pictures\\ProgettiVideo\\fantasmino.jpg)\n",
    "\n",
    "> questa è una citazione\n",
    "\n",
    "lascio una riga vuota per uscire dalla citazione\n",
    "\n",
    "- un\n",
    "- elenco\n",
    "- puntato\n",
    "\n",
    "---\n",
    "\n",
    "qui sopra c'è una riga lunga di separazione\n",
    "\n",
    "codice come un testo normale ma tabbato e con riga vuota\n",
    "\n",
    "    l=\"ciao\"\n",
    "    print(l)\n",
    "    for i in range(0, 3):\n",
    "        print(i)\n",
    "        \n",
    "questo è di nuovo testo normale\n",
    "    "
   ]
  },
  {
   "cell_type": "markdown",
   "id": "f3ab26e4",
   "metadata": {},
   "source": []
  }
 ],
 "metadata": {
  "kernelspec": {
   "display_name": "Python 3 (ipykernel)",
   "language": "python",
   "name": "python3"
  },
  "language_info": {
   "codemirror_mode": {
    "name": "ipython",
    "version": 3
   },
   "file_extension": ".py",
   "mimetype": "text/x-python",
   "name": "python",
   "nbconvert_exporter": "python",
   "pygments_lexer": "ipython3",
   "version": "3.11.4"
  }
 },
 "nbformat": 4,
 "nbformat_minor": 5
}
